{
 "cells": [
  {
   "cell_type": "code",
   "execution_count": 1,
   "id": "3958a570",
   "metadata": {},
   "outputs": [],
   "source": [
    "import sys, os\n",
    "sys.path.append(\"..\")\n",
    "\n",
    "from scripts.build_index import * "
   ]
  },
  {
   "cell_type": "code",
   "execution_count": 2,
   "id": "3fe2f432",
   "metadata": {},
   "outputs": [],
   "source": [
    "# Step 1: Load data from multiple sources\n",
    "all_documents = []"
   ]
  },
  {
   "cell_type": "code",
   "execution_count": 4,
   "id": "f446764a",
   "metadata": {},
   "outputs": [
    {
     "name": "stdout",
     "output_type": "stream",
     "text": [
      "✅ Loaded 307 GenAge documents\n"
     ]
    }
   ],
   "source": [
    "genage_docs = load_genage_data(\"../data/raw/genage_human.csv\")\n",
    "all_documents.extend(genage_docs)"
   ]
  },
  {
   "cell_type": "code",
   "execution_count": 5,
   "id": "02ccff82",
   "metadata": {},
   "outputs": [
    {
     "name": "stdout",
     "output_type": "stream",
     "text": [
      "✅ Loaded 8 UniProt documents\n"
     ]
    }
   ],
   "source": [
    "uniprot_docs = load_uniprot_data(\"../data/raw/uniprot_sequences.csv\")\n",
    "all_documents.extend(uniprot_docs)"
   ]
  },
  {
   "cell_type": "code",
   "execution_count": 6,
   "id": "05c77b8c",
   "metadata": {},
   "outputs": [
    {
     "name": "stdout",
     "output_type": "stream",
     "text": [
      "\n",
      "🔍 Searching Europe PMC for CCR1...\n",
      "[EPMC SEARCH] Searching for: CCR1\n",
      "✅ Found 3 Europe PMC articles for CCR1\n",
      "  📄 Getting full text for highly cited article: PMC2212798\n",
      "  📄 Getting full text for highly cited article: PMC4993001\n",
      "  📄 Getting full text for highly cited article: PMC8273155\n",
      "\n",
      "🔍 Searching Europe PMC for CCR2...\n",
      "[EPMC SEARCH] Searching for: CCR2\n",
      "✅ Found 3 Europe PMC articles for CCR2\n",
      "  📄 Getting full text for highly cited article: PMC6340744\n",
      "  📄 Getting full text for highly cited article: PMC7402632\n",
      "  📄 Getting full text for highly cited article: PMC7264227\n",
      "\n",
      "🔍 Searching Europe PMC for CCR5...\n",
      "[EPMC SEARCH] Searching for: CCR5\n",
      "✅ Found 3 Europe PMC articles for CCR5\n",
      "  📄 Getting full text for highly cited article: PMC7095016\n",
      "  📄 Getting full text for highly cited article: PMC7167720\n",
      "  📄 Getting full text for highly cited article: PMC4433489\n",
      "\n",
      "🔍 Searching Europe PMC for CCR7...\n",
      "[EPMC SEARCH] Searching for: CCR7\n",
      "✅ Found 3 Europe PMC articles for CCR7\n",
      "  📄 Getting full text for highly cited article: PMC8238499\n",
      "  📄 Getting full text for highly cited article: PMC6884693\n",
      "  📄 Getting full text for highly cited article: PMC7889871\n",
      "\n",
      "🔍 Searching Europe PMC for NRF2...\n",
      "[EPMC SEARCH] Searching for: NRF2\n",
      "✅ Found 3 Europe PMC articles for NRF2\n",
      "  📄 Getting full text for highly cited article: PMC5864239\n",
      "  📄 Getting full text for highly cited article: PMC2799634\n",
      "  📄 Getting full text for highly cited article: PMC4066722\n",
      "\n",
      "🔍 Searching Europe PMC for APOE...\n",
      "[EPMC SEARCH] Searching for: APOE\n",
      "✅ Found 3 Europe PMC articles for APOE\n",
      "  📄 Getting full text for highly cited article: PMC4544753\n",
      "  📄 Getting full text for highly cited article: PMC5958625\n",
      "  📄 Getting full text for highly cited article: PMC7392084\n",
      "\n",
      "🔍 Searching Europe PMC for SOX2...\n",
      "[EPMC SEARCH] Searching for: SOX2\n",
      "✅ Found 3 Europe PMC articles for SOX2\n",
      "  📄 Getting full text for highly cited article: PMC3637064\n",
      "  📄 Getting full text for highly cited article: PMC7889871\n",
      "  📄 Getting full text for highly cited article: PMC3431493\n",
      "\n",
      "🔍 Searching Europe PMC for OCT4...\n",
      "[EPMC SEARCH] Searching for: OCT4\n",
      "✅ Found 3 Europe PMC articles for OCT4\n",
      "  📄 Getting full text for highly cited article: PMC8454663\n",
      "  📄 Getting full text for highly cited article: PMC4530010\n",
      "  📄 Getting full text for highly cited article: PMC4433489\n",
      "✅ Loaded 48 Europe PMC documents\n"
     ]
    }
   ],
   "source": [
    "key_proteins = [\"CCR1\", \"CCR2\", \"CCR5\", \"CCR7\", \"NRF2\", \"APOE\", \"SOX2\", \"OCT4\"]  # Example proteins\n",
    "europepmc_docs = load_europepmc_data(key_proteins, max_articles_per_protein=3)\n",
    "all_documents.extend(europepmc_docs)"
   ]
  },
  {
   "cell_type": "code",
   "execution_count": null,
   "id": "8e5834c8",
   "metadata": {},
   "outputs": [],
   "source": [
    "    in_memory_index = build_index(all_documents, use_chromadb=False)\n",
    "    in_memory_query_engine = in_memory_index.as_query_engine()"
   ]
  }
 ],
 "metadata": {
  "kernelspec": {
   "display_name": "Python 3",
   "language": "python",
   "name": "python3"
  },
  "language_info": {
   "codemirror_mode": {
    "name": "ipython",
    "version": 3
   },
   "file_extension": ".py",
   "mimetype": "text/x-python",
   "name": "python",
   "nbconvert_exporter": "python",
   "pygments_lexer": "ipython3",
   "version": "3.11.14"
  }
 },
 "nbformat": 4,
 "nbformat_minor": 5
}
