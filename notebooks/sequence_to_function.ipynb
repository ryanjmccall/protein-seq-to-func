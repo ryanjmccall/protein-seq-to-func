{
 "cells": [
  {
   "cell_type": "markdown",
   "id": "a665627e",
   "metadata": {},
   "source": [
    "# Sequence to function\n",
    "\n",
    "## The problem\n",
    "The problem we are working on is called sequence to function. Ideally this means we have a sequence and we infer some kind of function\n",
    "\n",
    "### The sequence: \n",
    "To me this means a few different things. \n",
    "- Gene sequence mutations\n",
    "- Gene and Protein Orthologs\n",
    "- Post-translational modification\n",
    "\n",
    "### The function: \n",
    "This also could mean a few things. My mind initially went to physiology, but now realized function could be alot broader. For example simple ligand enzyme binding could be related to funciton. The pathway that the protein is involved in, the regulation\n",
    "- A change in ligand binding interactions (Initial GPCR activation)\n",
    "- A change in metabolitic secondary activity (GPCRs downstream)\n",
    "\n",
    "## The solution\n",
    "When thinking about a solution to the hackathon problem. Ryan has suggested, could we start with building a full profile with only two data categories (for the sequence). To me this means: \n",
    "- Gene name, mutation/ortholog\n",
    "- Protein name, post-translational modification\n",
    "\n",
    "Given those could we pull out somekind of knowledge graph that will allow us to relate it to currently known research. This is where we will need the __agent__"
   ]
  },
  {
   "cell_type": "code",
   "execution_count": null,
   "id": "80e1f8c6",
   "metadata": {},
   "outputs": [],
   "source": [
    "import sys, os\n",
    "sys.path.append(\"..\")\n",
    "\n",
    "from scripts.fetch_data import fetch_uniprot_data\n",
    "import pandas as pd\n",
    "import numpy as np\n",
    "import pathlib as Path"
   ]
  },
  {
   "cell_type": "markdown",
   "id": "5853f3df",
   "metadata": {},
   "source": [
    "#TODO: How do we parse the data from here? "
   ]
  },
  {
   "cell_type": "code",
   "execution_count": 5,
   "id": "6469f8c4",
   "metadata": {},
   "outputs": [
    {
     "name": "stdout",
     "output_type": "stream",
     "text": [
      "Fetching data for 1 genes from UniProt...\n",
      "  ✅ Found data for CCR2\n",
      "\n",
      "✅ UniProt fetching complete!\n"
     ]
    }
   ],
   "source": [
    "# Maybe here can go the parsing terms\n",
    "uniprot_data = fetch_uniprot_data([\"CCR2\"])"
   ]
  },
  {
   "cell_type": "code",
   "execution_count": 6,
   "id": "f49c0420",
   "metadata": {},
   "outputs": [
    {
     "data": {
      "text/html": [
       "<div>\n",
       "<style scoped>\n",
       "    .dataframe tbody tr th:only-of-type {\n",
       "        vertical-align: middle;\n",
       "    }\n",
       "\n",
       "    .dataframe tbody tr th {\n",
       "        vertical-align: top;\n",
       "    }\n",
       "\n",
       "    .dataframe thead th {\n",
       "        text-align: right;\n",
       "    }\n",
       "</style>\n",
       "<table border=\"1\" class=\"dataframe\">\n",
       "  <thead>\n",
       "    <tr style=\"text-align: right;\">\n",
       "      <th></th>\n",
       "      <th>gene_symbol</th>\n",
       "      <th>uniprot_id</th>\n",
       "      <th>protein_name</th>\n",
       "      <th>sequence</th>\n",
       "    </tr>\n",
       "  </thead>\n",
       "  <tbody>\n",
       "    <tr>\n",
       "      <th>0</th>\n",
       "      <td>CCR2</td>\n",
       "      <td>L7RER4</td>\n",
       "      <td>None</td>\n",
       "      <td>MLSTSRSRFIRNTNESGEEVTTFFDYDYGAPCHKFDVKQIGAQLLP...</td>\n",
       "    </tr>\n",
       "  </tbody>\n",
       "</table>\n",
       "</div>"
      ],
      "text/plain": [
       "  gene_symbol uniprot_id protein_name  \\\n",
       "0        CCR2     L7RER4         None   \n",
       "\n",
       "                                            sequence  \n",
       "0  MLSTSRSRFIRNTNESGEEVTTFFDYDYGAPCHKFDVKQIGAQLLP...  "
      ]
     },
     "execution_count": 6,
     "metadata": {},
     "output_type": "execute_result"
    }
   ],
   "source": [
    "uniprot_data"
   ]
  },
  {
   "cell_type": "code",
   "execution_count": null,
   "id": "480a4fb2",
   "metadata": {},
   "outputs": [],
   "source": []
  }
 ],
 "metadata": {
  "kernelspec": {
   "display_name": "Python 3",
   "language": "python",
   "name": "python3"
  },
  "language_info": {
   "codemirror_mode": {
    "name": "ipython",
    "version": 3
   },
   "file_extension": ".py",
   "mimetype": "text/x-python",
   "name": "python",
   "nbconvert_exporter": "python",
   "pygments_lexer": "ipython3",
   "version": "3.11.14"
  }
 },
 "nbformat": 4,
 "nbformat_minor": 5
}
