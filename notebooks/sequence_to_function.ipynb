{
 "cells": [
  {
   "cell_type": "markdown",
   "id": "a665627e",
   "metadata": {},
   "source": [
    "# Sequence to function\n",
    "\n",
    "## The problem\n",
    "The problem we are working on is called sequence to function. Ideally this means we have a sequence and we infer some kind of function\n",
    "\n",
    "### The sequence: \n",
    "To me this means a few different things. \n",
    "- Gene sequence mutations\n",
    "- Gene and Protein Orthologs\n",
    "- Post-translational modification\n",
    "\n",
    "### The function: \n",
    "This also could mean a few things. My mind initially went to physiology, but now realized function could be alot broader. For example simple ligand enzyme binding could be related to funciton. The pathway that the protein is involved in, the regulation\n",
    "- A change in ligand binding interactions (Initial GPCR activation)\n",
    "- A change in metabolitic secondary activity (GPCRs downstream)\n",
    "\n",
    "## The solution\n",
    "When thinking about a solution to the hackathon problem. Ryan has suggested, could we start with building a full profile with only two data categories (for the sequence). To me this means: \n",
    "- Gene name, mutation/ortholog\n",
    "- Protein name, post-translational modification\n",
    "\n",
    "Given those could we pull out somekind of knowledge graph that will allow us to relate it to currently known research. This is where we will need the __agent__"
   ]
  },
  {
   "cell_type": "code",
   "execution_count": null,
   "id": "89e045c3",
   "metadata": {},
   "outputs": [],
   "source": [
    "import pandas as pd"
   ]
  },
  {
   "cell_type": "code",
   "execution_count": null,
   "id": "57052489",
   "metadata": {},
   "outputs": [],
   "source": [
    "import numpy as np"
   ]
  },
  {
   "cell_type": "code",
   "execution_count": null,
   "id": "c6da1c01",
   "metadata": {},
   "outputs": [],
   "source": []
  }
 ],
 "metadata": {
  "kernelspec": {
   "display_name": ".venv",
   "language": "python",
   "name": "python3"
  },
  "language_info": {
   "name": "python",
   "version": "3.14.0"
  }
 },
 "nbformat": 4,
 "nbformat_minor": 5
}
