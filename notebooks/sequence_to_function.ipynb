{
 "cells": [
  {
   "cell_type": "markdown",
   "id": "a665627e",
   "metadata": {},
   "source": [
    "# Sequence to function\n",
    "\n",
    "## The problem\n",
    "The problem we are working on is called sequence to function. Ideally this means we have a sequence and we infer some kind of function\n",
    "\n",
    "### The sequence: \n",
    "To me this means a few different things. \n",
    "- Gene sequence mutations\n",
    "- Gene and Protein Orthologs\n",
    "- Post-translational modification\n",
    "\n",
    "### The function: \n",
    "This also could mean a few things. My mind initially went to physiology, but now realized function could be alot broader. For example simple ligand enzyme binding could be related to funciton. The pathway that the protein is involved in, the regulation\n",
    "- A change in ligand binding interactions (Initial GPCR activation)\n",
    "- A change in metabolitic secondary activity (GPCRs downstream)\n",
    "\n",
    "## The solution\n",
    "When thinking about a solution to the hackathon problem. Ryan has suggested, could we start with building a full profile with only two data categories (for the sequence). To me this means: \n",
    "- Gene name, mutation/ortholog\n",
    "- Protein name, post-translational modification\n",
    "\n",
    "Given those could we pull out somekind of knowledge graph that will allow us to relate it to currently known research. This is where we will need the __agent__"
   ]
  },
  {
   "cell_type": "code",
   "execution_count": 1,
   "id": "80e1f8c6",
   "metadata": {},
   "outputs": [],
   "source": [
    "import sys, os\n",
    "sys.path.append(\"..\")\n",
    "\n",
    "from scripts.fetch_data import fetch_uniprot_data, fetch_genage_data, split_colon_list\n",
    "from scripts.json_extractor import fetch_europe_pmc_best #Haven't named the function yet\n",
    "import pandas as pd\n",
    "import numpy as np\n",
    "import pathlib as Path"
   ]
  },
  {
   "cell_type": "markdown",
   "id": "5853f3df",
   "metadata": {},
   "source": [
    "#TODO: How do we parse the data from here? "
   ]
  },
  {
   "cell_type": "code",
   "execution_count": 2,
   "id": "6469f8c4",
   "metadata": {},
   "outputs": [
    {
     "data": {
      "text/html": [
       "<div>\n",
       "<style scoped>\n",
       "    .dataframe tbody tr th:only-of-type {\n",
       "        vertical-align: middle;\n",
       "    }\n",
       "\n",
       "    .dataframe tbody tr th {\n",
       "        vertical-align: top;\n",
       "    }\n",
       "\n",
       "    .dataframe thead th {\n",
       "        text-align: right;\n",
       "    }\n",
       "</style>\n",
       "<table border=\"1\" class=\"dataframe\">\n",
       "  <thead>\n",
       "    <tr style=\"text-align: right;\">\n",
       "      <th></th>\n",
       "      <th>gene_symbol</th>\n",
       "      <th>uniprot_id</th>\n",
       "      <th>protein_name</th>\n",
       "      <th>sequence</th>\n",
       "      <th>pmids</th>\n",
       "      <th>dois</th>\n",
       "      <th>citation_titles</th>\n",
       "      <th>reviewed</th>\n",
       "    </tr>\n",
       "  </thead>\n",
       "  <tbody>\n",
       "    <tr>\n",
       "      <th>0</th>\n",
       "      <td>CCR2</td>\n",
       "      <td>P41597</td>\n",
       "      <td>C-C chemokine receptor type 2</td>\n",
       "      <td>MLSTSRSRFIRNTNESGEEVTTFFDYDYGAPCHKFDVKQIGAQLLP...</td>\n",
       "      <td>None</td>\n",
       "      <td>None</td>\n",
       "      <td>Molecular cloning and functional expression of...</td>\n",
       "      <td>False</td>\n",
       "    </tr>\n",
       "  </tbody>\n",
       "</table>\n",
       "</div>"
      ],
      "text/plain": [
       "  gene_symbol uniprot_id                   protein_name  \\\n",
       "0        CCR2     P41597  C-C chemokine receptor type 2   \n",
       "\n",
       "                                            sequence pmids  dois  \\\n",
       "0  MLSTSRSRFIRNTNESGEEVTTFFDYDYGAPCHKFDVKQIGAQLLP...  None  None   \n",
       "\n",
       "                                     citation_titles  reviewed  \n",
       "0  Molecular cloning and functional expression of...     False  "
      ]
     },
     "metadata": {},
     "output_type": "display_data"
    }
   ],
   "source": [
    "# Maybe here can go the parsing terms\n",
    "uniprot_data = fetch_uniprot_data([\"CCR2\"])\n",
    "display(uniprot_data)"
   ]
  },
  {
   "cell_type": "code",
   "execution_count": 9,
   "id": "cb3c8d8b",
   "metadata": {},
   "outputs": [],
   "source": [
    "citation_list = split_colon_list(uniprot_data.citation_titles[0])"
   ]
  },
  {
   "cell_type": "code",
   "execution_count": null,
   "id": "590052a0",
   "metadata": {},
   "outputs": [
    {
     "data": {
      "text/plain": [
       "{'PMC': '43448',\n",
       " 'DOI': '10.1073/pnas.91.7.2752',\n",
       " 'PMID': '8146186',\n",
       " 'PMCID': 'PMC43448',\n",
       " 'title': 'Molecular cloning and functional expression of two monocyte chemoattractant protein 1 receptors reveals alternative splicing of the carboxyl-terminal tails.',\n",
       " 'journal': None,\n",
       " 'year': 1994,\n",
       " 'source_url': 'https://europepmc.org/article/PMC/PMC43448'}"
      ]
     },
     "execution_count": 10,
     "metadata": {},
     "output_type": "execute_result"
    }
   ],
   "source": [
    "\n",
    "json_id = fetch_europe_pmc_best(citation_list[0])"
   ]
  }
 ],
 "metadata": {
  "kernelspec": {
   "display_name": "Python 3",
   "language": "python",
   "name": "python3"
  },
  "language_info": {
   "codemirror_mode": {
    "name": "ipython",
    "version": 3
   },
   "file_extension": ".py",
   "mimetype": "text/x-python",
   "name": "python",
   "nbconvert_exporter": "python",
   "pygments_lexer": "ipython3",
   "version": "3.11.14"
  }
 },
 "nbformat": 4,
 "nbformat_minor": 5
}
