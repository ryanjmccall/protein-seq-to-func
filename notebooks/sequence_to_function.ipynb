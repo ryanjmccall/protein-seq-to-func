{
 "cells": [
  {
   "cell_type": "markdown",
   "id": "a665627e",
   "metadata": {},
   "source": [
    "# Sequence to function\n",
    "\n",
    "## The problem\n",
    "The problem we are working on is called sequence to function. Ideally this means we have a sequence and we infer some kind of function\n",
    "\n",
    "### The sequence: \n",
    "To me this means a few different things. \n",
    "- Gene sequence mutations\n",
    "- Gene and Protein Orthologs\n",
    "- Post-translational modification\n",
    "\n",
    "### The function: \n",
    "This also could mean a few things. My mind initially went to physiology, but now realized function could be alot broader. For example simple ligand enzyme binding could be related to funciton. The pathway that the protein is involved in, the regulation\n",
    "- A change in ligand binding interactions (Initial GPCR activation)\n",
    "- A change in metabolitic secondary activity (GPCRs downstream)\n",
    "\n",
    "## The solution\n",
    "When thinking about a solution to the hackathon problem. Ryan has suggested, could we start with building a full profile with only two data categories (for the sequence). To me this means: \n",
    "- Gene name, mutation/ortholog\n",
    "- Protein name, post-translational modification\n",
    "\n",
    "Given those could we pull out somekind of knowledge graph that will allow us to relate it to currently known research. This is where we will need the __agent__"
   ]
  },
  {
   "cell_type": "code",
   "execution_count": 1,
   "id": "80e1f8c6",
   "metadata": {},
   "outputs": [],
   "source": [
    "import sys, os\n",
    "sys.path.append(\"..\")\n",
    "\n",
    "from scripts.fetch_data import fetch_uniprot_data, fetch_genage_data\n",
    "import pandas as pd\n",
    "import numpy as np\n",
    "import pathlib as Path"
   ]
  },
  {
   "cell_type": "markdown",
   "id": "5853f3df",
   "metadata": {},
   "source": [
    "#TODO: How do we parse the data from here? "
   ]
  },
  {
   "cell_type": "code",
   "execution_count": 9,
   "id": "6469f8c4",
   "metadata": {},
   "outputs": [],
   "source": [
    "# Maybe here can go the parsing terms\n",
    "uniprot_data = fetch_uniprot_data([\"CCR2\"])"
   ]
  },
  {
   "cell_type": "code",
   "execution_count": 10,
   "id": "68985cc1",
   "metadata": {},
   "outputs": [
    {
     "data": {
      "text/html": [
       "<div>\n",
       "<style scoped>\n",
       "    .dataframe tbody tr th:only-of-type {\n",
       "        vertical-align: middle;\n",
       "    }\n",
       "\n",
       "    .dataframe tbody tr th {\n",
       "        vertical-align: top;\n",
       "    }\n",
       "\n",
       "    .dataframe thead th {\n",
       "        text-align: right;\n",
       "    }\n",
       "</style>\n",
       "<table border=\"1\" class=\"dataframe\">\n",
       "  <thead>\n",
       "    <tr style=\"text-align: right;\">\n",
       "      <th></th>\n",
       "      <th>gene_symbol</th>\n",
       "      <th>uniprot_id</th>\n",
       "      <th>protein_name</th>\n",
       "      <th>sequence</th>\n",
       "      <th>pmids</th>\n",
       "      <th>dois</th>\n",
       "      <th>citation_titles</th>\n",
       "      <th>reviewed</th>\n",
       "    </tr>\n",
       "  </thead>\n",
       "  <tbody>\n",
       "    <tr>\n",
       "      <th>0</th>\n",
       "      <td>CCR2</td>\n",
       "      <td>P41597</td>\n",
       "      <td>C-C chemokine receptor type 2</td>\n",
       "      <td>MLSTSRSRFIRNTNESGEEVTTFFDYDYGAPCHKFDVKQIGAQLLP...</td>\n",
       "      <td>None</td>\n",
       "      <td>None</td>\n",
       "      <td>Molecular cloning and functional expression of...</td>\n",
       "      <td>False</td>\n",
       "    </tr>\n",
       "  </tbody>\n",
       "</table>\n",
       "</div>"
      ],
      "text/plain": [
       "  gene_symbol uniprot_id                   protein_name  \\\n",
       "0        CCR2     P41597  C-C chemokine receptor type 2   \n",
       "\n",
       "                                            sequence pmids  dois  \\\n",
       "0  MLSTSRSRFIRNTNESGEEVTTFFDYDYGAPCHKFDVKQIGAQLLP...  None  None   \n",
       "\n",
       "                                     citation_titles  reviewed  \n",
       "0  Molecular cloning and functional expression of...     False  "
      ]
     },
     "execution_count": 10,
     "metadata": {},
     "output_type": "execute_result"
    }
   ],
   "source": [
    "uniprot_data"
   ]
  },
  {
   "cell_type": "code",
   "execution_count": 8,
   "id": "cb3c8d8b",
   "metadata": {},
   "outputs": [
    {
     "data": {
      "text/plain": [
       "'Molecular cloning and functional expression of two monocyte chemoattractant protein 1 receptors reveals alternative splicing of the carboxyl-terminal tails.; cDNA cloning and functional expression of a human monocyte chemoattractant protein 1 receptor.; Organization and differential expression of the human monocyte chemoattractant protein 1 receptor gene. Evidence for the role of the carboxyl-terminal tail in receptor trafficking.; Complete sequencing and characterization of 21,243 full-length human cDNAs.; The DNA sequence, annotation and analysis of human chromosome 3.; The status, quality, and expansion of the NIH full-length cDNA project: the Mammalian Gene Collection (MGC).; IL-2-Regulated Expression of the Monocyte Chemotactic Protein-1 Receptor (CCR2) in Human NK Cells.; The chemokine monocyte chemotactic protein 1 triggers Janus kinase 2 activation and tyrosine phosphorylation of the CCR2B receptor.; Monocyte chemoattractant protein-1-induced CCR2B receptor desensitization mediated by the G protein-coupled receptor kinase 2.; HIV-1 Tat protein mimicry of chemokines.; Monocyte chemotactic protein-1 receptor CCR2B is a glycoprotein that has tyrosine sulfation in a conserved extracellular N-terminal region.; Pivotal function for cytoplasmic protein FROUNT in CCR2-mediated monocyte chemotaxis.; Human LZIP induces monocyte CC chemokine receptor 2 expression leading to enhancement of monocyte chemoattractant protein 1/CCL2-induced cell migration.; Tyrosine sulfation of chemokine receptor CCR2 enhances interactions with both monomeric and dimeric forms of the chemokine monocyte chemoattractant protein-1 (MCP-1).; Structural basis for the interaction of human beta-defensin 6 and its putative chemokine receptor CCR2 and breast cancer microvesicles.; Structural basis for the binding of the membrane-proximal C-terminal region of chemokine receptor CCR2 with the cytosolic regulator FROUNT.; Structure of CC chemokine receptor 2 with orthosteric and allosteric antagonists.; Contrasting genetic influence of CCR2 and CCR5 variants on HIV-1 infection and disease progression.; Genealogy of the CCR5 locus and chemokine system gene variants associated with altered rates of HIV-1 disease progression.; Human inherited CCR2 deficiency underlies progressive polycystic lung disease.'"
      ]
     },
     "execution_count": 8,
     "metadata": {},
     "output_type": "execute_result"
    }
   ],
   "source": [
    "uniprot_data.citation_titles[0]"
   ]
  },
  {
   "cell_type": "code",
   "execution_count": null,
   "id": "590052a0",
   "metadata": {},
   "outputs": [],
   "source": [
    "# We have a title of the papers, \n",
    "# but we need to get to DOI and PMID and output felixs JSON file format. "
   ]
  },
  {
   "cell_type": "markdown",
   "id": "1f1af720",
   "metadata": {},
   "source": [
    "# Ryan has "
   ]
  }
 ],
 "metadata": {
  "kernelspec": {
   "display_name": "Python 3",
   "language": "python",
   "name": "python3"
  },
  "language_info": {
   "codemirror_mode": {
    "name": "ipython",
    "version": 3
   },
   "file_extension": ".py",
   "mimetype": "text/x-python",
   "name": "python",
   "nbconvert_exporter": "python",
   "pygments_lexer": "ipython3",
   "version": "3.11.14"
  }
 },
 "nbformat": 4,
 "nbformat_minor": 5
}
