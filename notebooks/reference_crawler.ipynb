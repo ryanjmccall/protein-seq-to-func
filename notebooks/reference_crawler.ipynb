{
 "cells": [
  {
   "cell_type": "markdown",
   "id": "a665627e",
   "metadata": {},
   "source": [
    "# Sequence to function\n",
    "\n",
    "## The problem\n",
    "The problem we are working on is called sequence to function. Ideally this means we have a sequence and we infer some kind of function\n",
    "\n",
    "### The sequence: \n",
    "To me this means a few different things. \n",
    "- Gene sequence mutations\n",
    "- Gene and Protein Orthologs\n",
    "- Post-translational modification\n",
    "\n",
    "### The function: \n",
    "This also could mean a few things. My mind initially went to physiology, but now realized function could be alot broader. For example simple ligand enzyme binding could be related to funciton. The pathway that the protein is involved in, the regulation\n",
    "- A change in ligand binding interactions (Initial GPCR activation)\n",
    "- A change in metabolitic secondary activity (GPCRs downstream)\n",
    "\n",
    "## The solution\n",
    "When thinking about a solution to the hackathon problem. Ryan has suggested, could we start with building a full profile with only two data categories (for the sequence). To me this means: \n",
    "- Gene name, mutation/ortholog\n",
    "- Protein name, post-translational modification\n",
    "\n",
    "Given those could we pull out somekind of knowledge graph that will allow us to relate it to currently known research. This is where we will need the __agent__"
   ]
  },
  {
   "cell_type": "code",
   "execution_count": 1,
   "id": "80e1f8c6",
   "metadata": {},
   "outputs": [],
   "source": [
    "import sys, os\n",
    "sys.path.append(\"..\")\n",
    "\n",
    "from scripts.fetch_data import split_colon_list\n",
    "from scripts.epmc_utils import fetch_epmc, fetch_epmc_batch_save_json, save_dataframe_rows_as_json\n",
    "import pandas as pd\n"
   ]
  },
  {
   "cell_type": "code",
   "execution_count": 2,
   "id": "322e207b",
   "metadata": {},
   "outputs": [
    {
     "name": "stdout",
     "output_type": "stream",
     "text": [
      "Directory already exists\n"
     ]
    }
   ],
   "source": [
    "#This simple script creates the JSON directory if it doesn't exist. We are adding this to .gitignore, maybe it is too heavy?\n",
    "if not os.path.isdir(\"../data/corpus/\"):\n",
    "    os.makedirs(\"../data/corpus/\", exist_ok = True)\n",
    "    print(\"Making a new directory\")\n",
    "else:\n",
    "    print(\"Directory already exists\")"
   ]
  },
  {
   "cell_type": "code",
   "execution_count": 3,
   "id": "d5d8fb90",
   "metadata": {},
   "outputs": [
    {
     "data": {
      "text/html": [
       "<div>\n",
       "<style scoped>\n",
       "    .dataframe tbody tr th:only-of-type {\n",
       "        vertical-align: middle;\n",
       "    }\n",
       "\n",
       "    .dataframe tbody tr th {\n",
       "        vertical-align: top;\n",
       "    }\n",
       "\n",
       "    .dataframe thead th {\n",
       "        text-align: right;\n",
       "    }\n",
       "</style>\n",
       "<table border=\"1\" class=\"dataframe\">\n",
       "  <thead>\n",
       "    <tr style=\"text-align: right;\">\n",
       "      <th></th>\n",
       "      <th>GenAge ID</th>\n",
       "      <th>symbol</th>\n",
       "      <th>name</th>\n",
       "      <th>entrez gene id</th>\n",
       "      <th>uniprot</th>\n",
       "      <th>why</th>\n",
       "    </tr>\n",
       "  </thead>\n",
       "  <tbody>\n",
       "    <tr>\n",
       "      <th>0</th>\n",
       "      <td>1</td>\n",
       "      <td>GHR</td>\n",
       "      <td>growth hormone receptor</td>\n",
       "      <td>2690</td>\n",
       "      <td>GHR_HUMAN</td>\n",
       "      <td>mammal</td>\n",
       "    </tr>\n",
       "    <tr>\n",
       "      <th>1</th>\n",
       "      <td>2</td>\n",
       "      <td>GHRH</td>\n",
       "      <td>growth hormone releasing hormone</td>\n",
       "      <td>2691</td>\n",
       "      <td>SLIB_HUMAN</td>\n",
       "      <td>mammal</td>\n",
       "    </tr>\n",
       "    <tr>\n",
       "      <th>2</th>\n",
       "      <td>3</td>\n",
       "      <td>SHC1</td>\n",
       "      <td>SHC (Src homology 2 domain containing) transfo...</td>\n",
       "      <td>6464</td>\n",
       "      <td>SHC1_HUMAN</td>\n",
       "      <td>mammal</td>\n",
       "    </tr>\n",
       "    <tr>\n",
       "      <th>3</th>\n",
       "      <td>4</td>\n",
       "      <td>POU1F1</td>\n",
       "      <td>POU class 1 homeobox 1</td>\n",
       "      <td>5449</td>\n",
       "      <td>PIT1_HUMAN</td>\n",
       "      <td>mammal</td>\n",
       "    </tr>\n",
       "    <tr>\n",
       "      <th>4</th>\n",
       "      <td>5</td>\n",
       "      <td>PROP1</td>\n",
       "      <td>PROP paired-like homeobox 1</td>\n",
       "      <td>5626</td>\n",
       "      <td>PROP1_HUMAN</td>\n",
       "      <td>mammal</td>\n",
       "    </tr>\n",
       "  </tbody>\n",
       "</table>\n",
       "</div>"
      ],
      "text/plain": [
       "   GenAge ID  symbol                                               name  \\\n",
       "0          1     GHR                            growth hormone receptor   \n",
       "1          2    GHRH                   growth hormone releasing hormone   \n",
       "2          3    SHC1  SHC (Src homology 2 domain containing) transfo...   \n",
       "3          4  POU1F1                             POU class 1 homeobox 1   \n",
       "4          5   PROP1                        PROP paired-like homeobox 1   \n",
       "\n",
       "   entrez gene id      uniprot     why  \n",
       "0            2690    GHR_HUMAN  mammal  \n",
       "1            2691   SLIB_HUMAN  mammal  \n",
       "2            6464   SHC1_HUMAN  mammal  \n",
       "3            5449   PIT1_HUMAN  mammal  \n",
       "4            5626  PROP1_HUMAN  mammal  "
      ]
     },
     "metadata": {},
     "output_type": "display_data"
    },
    {
     "name": "stdout",
     "output_type": "stream",
     "text": [
      "307\n"
     ]
    }
   ],
   "source": [
    "genage_human = pd.read_csv(\"../data/raw/genage_human.csv\")\n",
    "display(genage_human.head())\n",
    "genes = genage_human['symbol'].values\n",
    "print(len(genes))"
   ]
  },
  {
   "cell_type": "code",
   "execution_count": 4,
   "id": "6469f8c4",
   "metadata": {},
   "outputs": [
    {
     "data": {
      "text/html": [
       "<div>\n",
       "<style scoped>\n",
       "    .dataframe tbody tr th:only-of-type {\n",
       "        vertical-align: middle;\n",
       "    }\n",
       "\n",
       "    .dataframe tbody tr th {\n",
       "        vertical-align: top;\n",
       "    }\n",
       "\n",
       "    .dataframe thead th {\n",
       "        text-align: right;\n",
       "    }\n",
       "</style>\n",
       "<table border=\"1\" class=\"dataframe\">\n",
       "  <thead>\n",
       "    <tr style=\"text-align: right;\">\n",
       "      <th></th>\n",
       "      <th>gene_symbol</th>\n",
       "      <th>uniprot_id</th>\n",
       "      <th>protein_name</th>\n",
       "      <th>sequence</th>\n",
       "      <th>pmids</th>\n",
       "      <th>dois</th>\n",
       "      <th>citation_titles</th>\n",
       "      <th>reviewed</th>\n",
       "    </tr>\n",
       "  </thead>\n",
       "  <tbody>\n",
       "    <tr>\n",
       "      <th>0</th>\n",
       "      <td>GHR</td>\n",
       "      <td>P10912</td>\n",
       "      <td>Growth hormone receptor</td>\n",
       "      <td>MDLWQLLLTLALAGSSDAFSGSEATAAILSRAPWSLQSVNPGLKTN...</td>\n",
       "      <td>NaN</td>\n",
       "      <td>NaN</td>\n",
       "      <td>Growth hormone receptor and serum binding prot...</td>\n",
       "      <td>False</td>\n",
       "    </tr>\n",
       "    <tr>\n",
       "      <th>1</th>\n",
       "      <td>GHRH</td>\n",
       "      <td>P01286</td>\n",
       "      <td>Somatoliberin</td>\n",
       "      <td>MPLWVFFFVILTLSNSSHCSPPPPLTLRMRRYADAIFTNSYRKVLG...</td>\n",
       "      <td>NaN</td>\n",
       "      <td>NaN</td>\n",
       "      <td>Cloning and sequence analysis of cDNA for the ...</td>\n",
       "      <td>False</td>\n",
       "    </tr>\n",
       "    <tr>\n",
       "      <th>2</th>\n",
       "      <td>SHC1</td>\n",
       "      <td>P29353</td>\n",
       "      <td>SHC-transforming protein 1</td>\n",
       "      <td>MDLLPPKPKYNPLRNESLSSLEEGASGSTPPEELPSPSASSLGPIL...</td>\n",
       "      <td>NaN</td>\n",
       "      <td>NaN</td>\n",
       "      <td>A novel transforming protein (SHC) with an SH2...</td>\n",
       "      <td>False</td>\n",
       "    </tr>\n",
       "    <tr>\n",
       "      <th>3</th>\n",
       "      <td>POU1F1</td>\n",
       "      <td>P28069</td>\n",
       "      <td>Pituitary-specific positive transcription fact...</td>\n",
       "      <td>MSCQAFTSADTFIPLNSDASATLPLIMHHSAAECLPVSNHATNVMS...</td>\n",
       "      <td>NaN</td>\n",
       "      <td>NaN</td>\n",
       "      <td>Cloning of the human cDNA for transcription fa...</td>\n",
       "      <td>False</td>\n",
       "    </tr>\n",
       "    <tr>\n",
       "      <th>4</th>\n",
       "      <td>PROP1</td>\n",
       "      <td>O75360</td>\n",
       "      <td>Homeobox protein prophet of Pit-1</td>\n",
       "      <td>MEAERRRQAEKPKKGRVGSNLLPERHPATGTPTTTVDSSAPPCRRL...</td>\n",
       "      <td>NaN</td>\n",
       "      <td>NaN</td>\n",
       "      <td>Human Prop-1: cloning, mapping, genomic struct...</td>\n",
       "      <td>False</td>\n",
       "    </tr>\n",
       "  </tbody>\n",
       "</table>\n",
       "</div>"
      ],
      "text/plain": [
       "  gene_symbol uniprot_id                                       protein_name  \\\n",
       "0         GHR     P10912                            Growth hormone receptor   \n",
       "1        GHRH     P01286                                      Somatoliberin   \n",
       "2        SHC1     P29353                         SHC-transforming protein 1   \n",
       "3      POU1F1     P28069  Pituitary-specific positive transcription fact...   \n",
       "4       PROP1     O75360                  Homeobox protein prophet of Pit-1   \n",
       "\n",
       "                                            sequence  pmids  dois  \\\n",
       "0  MDLWQLLLTLALAGSSDAFSGSEATAAILSRAPWSLQSVNPGLKTN...    NaN   NaN   \n",
       "1  MPLWVFFFVILTLSNSSHCSPPPPLTLRMRRYADAIFTNSYRKVLG...    NaN   NaN   \n",
       "2  MDLLPPKPKYNPLRNESLSSLEEGASGSTPPEELPSPSASSLGPIL...    NaN   NaN   \n",
       "3  MSCQAFTSADTFIPLNSDASATLPLIMHHSAAECLPVSNHATNVMS...    NaN   NaN   \n",
       "4  MEAERRRQAEKPKKGRVGSNLLPERHPATGTPTTTVDSSAPPCRRL...    NaN   NaN   \n",
       "\n",
       "                                     citation_titles  reviewed  \n",
       "0  Growth hormone receptor and serum binding prot...     False  \n",
       "1  Cloning and sequence analysis of cDNA for the ...     False  \n",
       "2  A novel transforming protein (SHC) with an SH2...     False  \n",
       "3  Cloning of the human cDNA for transcription fa...     False  \n",
       "4  Human Prop-1: cloning, mapping, genomic struct...     False  "
      ]
     },
     "metadata": {},
     "output_type": "display_data"
    },
    {
     "data": {
      "text/plain": [
       "12387"
      ]
     },
     "execution_count": 4,
     "metadata": {},
     "output_type": "execute_result"
    }
   ],
   "source": [
    "#Curate the uniprot data\n",
    "# uniprot_data = fetch_uniprot_data(genes)\n",
    "# uniprot_data.to_csv(\"../data/processed/uniprot_output.csv\", index=False)\n",
    "\n",
    "#OR just open the output\n",
    "uniprot_data =pd.read_csv(\"../data/processed/uniprot_output.csv\")\n",
    "display(uniprot_data.head())\n",
    "\n",
    "citation_list = [\n",
    "    item\n",
    "    for citation_title in uniprot_data.citation_titles\n",
    "    for item in split_colon_list(citation_title)\n",
    "]\n",
    "len(citation_list)\n"
   ]
  },
  {
   "cell_type": "code",
   "execution_count": null,
   "id": "c9c8e56b",
   "metadata": {},
   "outputs": [
    {
     "name": "stdout",
     "output_type": "stream",
     "text": [
      "Fetching EPMC metadata for item 1 of 9: Growth hormone receptor and serum binding protein: purification, cloning and expression.\n",
      "Fetching EPMC metadata for item 2 of 9: Characterization of the human growth hormone receptor gene and demonstration of a partial gene deletion in two patients with Laron-type dwarfism.\n",
      "Fetching EPMC metadata for item 3 of 9: Expression of a human growth hormone (hGH) receptor isoform is predicted by tissue-specific alternative splicing of exon 3 of the hGH receptor gene transcript.\n",
      "Fetching EPMC metadata for item 4 of 9: Alternatively spliced forms in the cytoplasmic domain of the human growth hormone (GH) receptor regulate its ability to generate a soluble GH-binding protein.\n",
      "Fetching EPMC metadata for item 5 of 9: A membrane-fixed, truncated isoform of the human growth hormone receptor.\n",
      "Fetching EPMC metadata for item 6 of 9: A short isoform of the human growth hormone receptor functions as a dominant negative inhibitor of the full-length receptor and generates large amounts of binding protein.\n",
      "Fetching EPMC metadata for item 7 of 9: Comparing of nucleotide sequences of alternatively spliced region of mammalian growth hormone receptor genes.\n"
     ]
    }
   ],
   "source": [
    "uniprot_citations_df = fetch_epmc_batch_save_json(\n",
    "    items = citation_list,\n",
    "    directory = \"../data/corpus/\",\n",
    "    id_column=\"PMID\",\n",
    "    filename_prefix=\"EPMC_\",\n",
    "    indent=4,\n",
    "    drop_missing=True,\n",
    ")\n",
    "print(f\"Saved {len(uniprot_citations_df)} UniProt citation JSON files.\")"
   ]
  }
 ],
 "metadata": {
  "kernelspec": {
   "display_name": "Python 3",
   "language": "python",
   "name": "python3"
  },
  "language_info": {
   "codemirror_mode": {
    "name": "ipython",
    "version": 3
   },
   "file_extension": ".py",
   "mimetype": "text/x-python",
   "name": "python",
   "nbconvert_exporter": "python",
   "pygments_lexer": "ipython3",
   "version": "3.11.14"
  }
 },
 "nbformat": 4,
 "nbformat_minor": 5
}
