{
 "cells": [
  {
   "cell_type": "markdown",
   "id": "a665627e",
   "metadata": {},
   "source": [
    "# Sequence to function\n",
    "\n",
    "## The problem\n",
    "The problem we are working on is called sequence to function. Ideally this means we have a sequence and we infer some kind of function\n",
    "\n",
    "### The sequence: \n",
    "To me this means a few different things. \n",
    "- Gene sequence mutations\n",
    "- Gene and Protein Orthologs\n",
    "- Post-translational modification\n",
    "\n",
    "### The function: \n",
    "This also could mean a few things. My mind initially went to physiology, but now realized function could be alot broader. For example simple ligand enzyme binding could be related to funciton. The pathway that the protein is involved in, the regulation\n",
    "- A change in ligand binding interactions (Initial GPCR activation)\n",
    "- A change in metabolitic secondary activity (GPCRs downstream)\n",
    "\n",
    "## The solution\n",
    "When thinking about a solution to the hackathon problem. Ryan has suggested, could we start with building a full profile with only two data categories (for the sequence). To me this means: \n",
    "- Gene name, mutation/ortholog\n",
    "- Protein name, post-translational modification\n",
    "\n",
    "Given those could we pull out somekind of knowledge graph that will allow us to relate it to currently known research. This is where we will need the __agent__"
   ]
  },
  {
   "cell_type": "code",
   "execution_count": null,
   "id": "80e1f8c6",
   "metadata": {},
   "outputs": [],
   "source": [
    "import sys, os\n",
    "sys.path.append(\"..\")\n",
    "\n",
    "from scripts.fetch_data import fetch_uniprot_data, split_colon_list\n",
    "from scripts.reference_scoring import (\n",
    "    collect_reference_network_for_genes,\n",
    "    score_reference_dataframe,\n",
    "    select_top_scoring_articles,\n",
    "    attach_full_text_columns,\n",
    ")\n",
    "from scripts.epmc_utils import save_dataframe_rows_as_json\n",
    "import pandas as pd\n"
   ]
  },
  {
   "cell_type": "code",
   "execution_count": 4,
   "id": "322e207b",
   "metadata": {},
   "outputs": [
    {
     "name": "stdout",
     "output_type": "stream",
     "text": [
      "Directory already exists\n"
     ]
    }
   ],
   "source": [
    "#This simple script creates the JSON directory if it doesn't exist. We are adding this to .gitignore, maybe it is too heavy?\n",
    "if not os.path.isdir(\"../data/papers\"):\n",
    "    os.makedirs(\"../data/papers\", exist_ok = True)\n",
    "    print(\"Making a new directory\")\n",
    "else:\n",
    "    print(\"Directory already exists\")"
   ]
  },
  {
   "cell_type": "code",
   "execution_count": 5,
   "id": "6469f8c4",
   "metadata": {},
   "outputs": [
    {
     "data": {
      "text/html": [
       "<div>\n",
       "<style scoped>\n",
       "    .dataframe tbody tr th:only-of-type {\n",
       "        vertical-align: middle;\n",
       "    }\n",
       "\n",
       "    .dataframe tbody tr th {\n",
       "        vertical-align: top;\n",
       "    }\n",
       "\n",
       "    .dataframe thead th {\n",
       "        text-align: right;\n",
       "    }\n",
       "</style>\n",
       "<table border=\"1\" class=\"dataframe\">\n",
       "  <thead>\n",
       "    <tr style=\"text-align: right;\">\n",
       "      <th></th>\n",
       "      <th>gene_symbol</th>\n",
       "      <th>uniprot_id</th>\n",
       "      <th>protein_name</th>\n",
       "      <th>sequence</th>\n",
       "      <th>pmids</th>\n",
       "      <th>dois</th>\n",
       "      <th>citation_titles</th>\n",
       "      <th>reviewed</th>\n",
       "    </tr>\n",
       "  </thead>\n",
       "  <tbody>\n",
       "    <tr>\n",
       "      <th>0</th>\n",
       "      <td>CCR2</td>\n",
       "      <td>P41597</td>\n",
       "      <td>C-C chemokine receptor type 2</td>\n",
       "      <td>MLSTSRSRFIRNTNESGEEVTTFFDYDYGAPCHKFDVKQIGAQLLP...</td>\n",
       "      <td>None</td>\n",
       "      <td>None</td>\n",
       "      <td>Molecular cloning and functional expression of...</td>\n",
       "      <td>False</td>\n",
       "    </tr>\n",
       "  </tbody>\n",
       "</table>\n",
       "</div>"
      ],
      "text/plain": [
       "  gene_symbol uniprot_id                   protein_name  \\\n",
       "0        CCR2     P41597  C-C chemokine receptor type 2   \n",
       "\n",
       "                                            sequence pmids  dois  \\\n",
       "0  MLSTSRSRFIRNTNESGEEVTTFFDYDYGAPCHKFDVKQIGAQLLP...  None  None   \n",
       "\n",
       "                                     citation_titles  reviewed  \n",
       "0  Molecular cloning and functional expression of...     False  "
      ]
     },
     "metadata": {},
     "output_type": "display_data"
    }
   ],
   "source": [
    "# Maybe here can go the parsing terms\n",
    "uniprot_data = fetch_uniprot_data([\"CCR2\"])\n",
    "display(uniprot_data)\n",
    "citation_list = split_colon_list(uniprot_data.citation_titles[0])"
   ]
  },
  {
   "cell_type": "code",
   "execution_count": null,
   "id": "590052a0",
   "metadata": {},
   "outputs": [],
   "source": [
    "reference_network = collect_reference_network_for_genes(\n",
    "    uniprot_df=uniprot_data,\n",
    "    include=(\"references\", \"citations\"),\n",
    "    max_depth=1,\n",
    "    delay=0.1,\n",
    ")\n",
    "\n",
    "if reference_network.empty:\n",
    "    print(\"No reference or citation records were returned.\")\n",
    "else:\n",
    "    print(f\"Network size: {len(reference_network)} articles\")\n",
    "    display(reference_network.head())\n"
   ]
  },
  {
   "cell_type": "code",
   "execution_count": null,
   "id": "331355ef",
   "metadata": {},
   "outputs": [],
   "source": [
    "if reference_network.empty:\n",
    "    scored_network = reference_network\n",
    "    print(\"Skipping scoring step; network is empty.\")\n",
    "else:\n",
    "    scored_network = score_reference_dataframe(\n",
    "        reference_network,\n",
    "        weights={\"year\": 0.4, \"function\": 0.35, \"longevity\": 0.25},\n",
    "        delay=0.1,\n",
    "        include_fulltext=False,\n",
    "    )\n",
    "    display(scored_network[[\n",
    "        \"gene_symbol\",\n",
    "        \"relation_primary\",\n",
    "        \"title\",\n",
    "        \"year\",\n",
    "        \"composite_score\",\n",
    "    ]].head(10))\n"
   ]
  },
  {
   "cell_type": "code",
   "execution_count": null,
   "id": "1bd1bd64",
   "metadata": {},
   "outputs": [],
   "source": [
    "n_references = 10\n",
    "\n",
    "if scored_network.empty:\n",
    "    top_references = scored_network\n",
    "    print(\"No articles available for ranking or export.\")\n",
    "else:\n",
    "    top_references = select_top_scoring_articles(\n",
    "        scored_network,\n",
    "        n_per_gene=n_references,\n",
    "        relation_filter=(\"reference\", \"citation\"),\n",
    "    )\n",
    "    top_references = attach_full_text_columns(\n",
    "        top_references,\n",
    "        delay=0.1,\n",
    "        include_xml=True,\n",
    "    )\n",
    "    preview = top_references.assign(\n",
    "        abstract_chars=top_references[\"abstract_text\"].fillna(\"\").str.len(),\n",
    "        full_text_chars=top_references[\"full_text\"].fillna(\"\").str.len(),\n",
    "    )\n",
    "    display(preview[[\n",
    "        \"gene_symbol\",\n",
    "        \"relation_primary\",\n",
    "        \"title\",\n",
    "        \"year\",\n",
    "        \"composite_score\",\n",
    "        \"abstract_chars\",\n",
    "        \"full_text_chars\",\n",
    "    ]])\n",
    "\n",
    "    saved_files = save_dataframe_rows_as_json(\n",
    "        top_references,\n",
    "        \"../data/papers\",\n",
    "        id_column=\"PMID\",\n",
    "        filename_prefix=\"PMID\",\n",
    "        indent=4,\n",
    "        drop_missing=True,\n",
    "    )\n",
    "    print(f\"Saved {len(saved_files)} top-scoring JSON files to ../data/papers\")\n"
   ]
  },
  {
   "cell_type": "code",
   "execution_count": null,
   "id": "22787654",
   "metadata": {},
   "outputs": [],
   "source": [
    "#Now once I have build a huge "
   ]
  }
 ],
 "metadata": {
  "kernelspec": {
   "display_name": "Python 3",
   "language": "python",
   "name": "python3"
  },
  "language_info": {
   "codemirror_mode": {
    "name": "ipython",
    "version": 3
   },
   "file_extension": ".py",
   "mimetype": "text/x-python",
   "name": "python",
   "nbconvert_exporter": "python",
   "pygments_lexer": "ipython3",
   "version": "3.11.14"
  }
 },
 "nbformat": 4,
 "nbformat_minor": 5
}
