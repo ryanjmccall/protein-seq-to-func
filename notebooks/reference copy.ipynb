{
 "cells": [
  {
   "cell_type": "markdown",
   "id": "a665627e",
   "metadata": {},
   "source": [
    "# Sequence to function\n",
    "\n",
    "## The problem\n",
    "The problem we are working on is called sequence to function. Ideally this means we have a sequence and we infer some kind of function\n",
    "\n",
    "### The sequence: \n",
    "To me this means a few different things. \n",
    "- Gene sequence mutations\n",
    "- Gene and Protein Orthologs\n",
    "- Post-translational modification\n",
    "\n",
    "### The function: \n",
    "This also could mean a few things. My mind initially went to physiology, but now realized function could be alot broader. For example simple ligand enzyme binding could be related to funciton. The pathway that the protein is involved in, the regulation\n",
    "- A change in ligand binding interactions (Initial GPCR activation)\n",
    "- A change in metabolitic secondary activity (GPCRs downstream)\n",
    "\n",
    "## The solution\n",
    "When thinking about a solution to the hackathon problem. Ryan has suggested, could we start with building a full profile with only two data categories (for the sequence). To me this means: \n",
    "- Gene name, mutation/ortholog\n",
    "- Protein name, post-translational modification\n",
    "\n",
    "Given those could we pull out somekind of knowledge graph that will allow us to relate it to currently known research. This is where we will need the __agent__"
   ]
  },
  {
   "cell_type": "code",
   "execution_count": 1,
   "id": "80e1f8c6",
   "metadata": {},
   "outputs": [],
   "source": [
    "import sys, os\n",
    "sys.path.append(\"..\")\n",
    "\n",
    "from scripts.fetch_data import split_colon_list, fetch_uniprot_data\n",
    "from scripts.epmc_utils import fetch_epmc_batch, fetch_epmc_batch_save_json, save_dataframe_rows_as_json\n",
    "import pandas as pd"
   ]
  },
  {
   "cell_type": "code",
   "execution_count": 2,
   "id": "322e207b",
   "metadata": {},
   "outputs": [
    {
     "name": "stdout",
     "output_type": "stream",
     "text": [
      "Directory already exists\n"
     ]
    }
   ],
   "source": [
    "#This simple script creates the JSON directory if it doesn't exist. We are adding this to .gitignore, maybe it is too heavy?\n",
    "if not os.path.isdir(\"../data/corpus/\"):\n",
    "    os.makedirs(\"../data/corpus/\", exist_ok = True)\n",
    "    print(\"Making a new directory\")\n",
    "else:\n",
    "    print(\"Directory already exists\")"
   ]
  },
  {
   "cell_type": "code",
   "execution_count": 3,
   "id": "6469f8c4",
   "metadata": {},
   "outputs": [
    {
     "name": "stdout",
     "output_type": "stream",
     "text": [
      "Fetching UniProt data for CCR1\n",
      "Fetching UniProt data for CCR2\n",
      "Fetching UniProt data for CCR5\n",
      "Fetching UniProt data for CCR7\n",
      "Fetching UniProt data for APOE\n"
     ]
    },
    {
     "data": {
      "text/plain": [
       "161"
      ]
     },
     "execution_count": 3,
     "metadata": {},
     "output_type": "execute_result"
    }
   ],
   "source": [
    "#Curate the uniprot data\n",
    "uniprot_data = fetch_uniprot_data([\"CCR1\", \"CCR2\", \"CCR5\", \"CCR7\", \"APOE\"])\n",
    "#uniprot_data.to_csv(\"../data/processed/uniprot_specific_output.csv\", index=False)\n",
    "\n",
    "# #OR just open the output\n",
    "# uniprot_data =pd.read_csv(\"../data/processed/uniprot_output.csv\")\n",
    "# display(uniprot_data.head())\n",
    "\n",
    "citation_list = [\n",
    "    item\n",
    "    for citation_title in uniprot_data.citation_titles\n",
    "    for item in split_colon_list(citation_title)\n",
    "]\n",
    "len(citation_list)\n"
   ]
  },
  {
   "cell_type": "code",
   "execution_count": null,
   "id": "c9c8e56b",
   "metadata": {},
   "outputs": [
    {
     "name": "stdout",
     "output_type": "stream",
     "text": [
      "Fetching EPMC metadata for item 1 of 161: Molecular cloning, functional expression, and signaling characteristics of a C-C chemokine receptor.\n",
      "Fetching EPMC metadata for item 2 of 161: Structure and functional expression of the human macrophage inflammatory protein 1 alpha/RANTES receptor.\n",
      "Fetching EPMC metadata for item 3 of 161: Molecular cloning of cDNAs encoding a LD78 receptor and putative leukocyte chemotactic peptide receptors.\n",
      "Fetching EPMC metadata for item 4 of 161: The status, quality, and expansion of the NIH full-length cDNA project: the Mammalian Gene Collection (MGC).\n",
      "Fetching EPMC metadata for item 5 of 161: Human LZIP binds to CCR1 and differentially affects the chemotactic activities of CCR1-dependent chemokines.\n",
      "Fetching EPMC metadata for item 6 of 161: Differential chemokine activation of CC chemokine receptor 1-regulated pathways: ligand selective activation of Galpha 14-coupled pathways.\n",
      "Fetching EPMC metadata for item 7 of 161: Proteolytic activation of alternative CCR1 ligands in inflammation.\n",
      "Fetching EPMC metadata for item 8 of 161: Human LZIP induces monocyte CC chemokine receptor 2 expression leading to enhancement of monocyte chemoattractant protein 1/CCL2-induced cell migration.\n",
      "Fetching EPMC metadata for item 9 of 161: CXCL4/Platelet Factor 4 is an agonist of CCR1 and drives human monocyte migration.\n",
      "Fetching EPMC metadata for item 10 of 161: Identification and mechanism of G protein-biased ligands for chemokine receptor CCR1.\n",
      "Fetching EPMC metadata for item 11 of 161: Molecular cloning and functional expression of two monocyte chemoattractant protein 1 receptors reveals alternative splicing of the carboxyl-terminal tails.\n",
      "Fetching EPMC metadata for item 12 of 161: cDNA cloning and functional expression of a human monocyte chemoattractant protein 1 receptor.\n",
      "Fetching EPMC metadata for item 13 of 161: Organization and differential expression of the human monocyte chemoattractant protein 1 receptor gene. Evidence for the role of the carboxyl-terminal tail in receptor trafficking.\n",
      "Fetching EPMC metadata for item 14 of 161: Complete sequencing and characterization of 21,243 full-length human cDNAs.\n",
      "Fetching EPMC metadata for item 15 of 161: The DNA sequence, annotation and analysis of human chromosome 3.\n",
      "Fetching EPMC metadata for item 16 of 161: The status, quality, and expansion of the NIH full-length cDNA project: the Mammalian Gene Collection (MGC).\n",
      "Fetching EPMC metadata for item 17 of 161: IL-2-Regulated Expression of the Monocyte Chemotactic Protein-1 Receptor (CCR2) in Human NK Cells.\n",
      "Skipping existing file: IL-2-Regulated Expression of the Monocyte Chemotactic Protein-1 Receptor (CCR2) in Human NK Cells. (filename: EPMC_item0016.json)\n",
      "Fetching EPMC metadata for item 18 of 161: The chemokine monocyte chemotactic protein 1 triggers Janus kinase 2 activation and tyrosine phosphorylation of the CCR2B receptor.\n",
      "Fetching EPMC metadata for item 19 of 161: Monocyte chemoattractant protein-1-induced CCR2B receptor desensitization mediated by the G protein-coupled receptor kinase 2.\n",
      "Fetching EPMC metadata for item 20 of 161: HIV-1 Tat protein mimicry of chemokines.\n",
      "Fetching EPMC metadata for item 21 of 161: Monocyte chemotactic protein-1 receptor CCR2B is a glycoprotein that has tyrosine sulfation in a conserved extracellular N-terminal region.\n",
      "Fetching EPMC metadata for item 22 of 161: Pivotal function for cytoplasmic protein FROUNT in CCR2-mediated monocyte chemotaxis.\n",
      "Fetching EPMC metadata for item 23 of 161: Human LZIP induces monocyte CC chemokine receptor 2 expression leading to enhancement of monocyte chemoattractant protein 1/CCL2-induced cell migration.\n",
      "Fetching EPMC metadata for item 24 of 161: Tyrosine sulfation of chemokine receptor CCR2 enhances interactions with both monomeric and dimeric forms of the chemokine monocyte chemoattractant protein-1 (MCP-1).\n",
      "Fetching EPMC metadata for item 25 of 161: Structural basis for the interaction of human beta-defensin 6 and its putative chemokine receptor CCR2 and breast cancer microvesicles.\n",
      "Fetching EPMC metadata for item 26 of 161: Structural basis for the binding of the membrane-proximal C-terminal region of chemokine receptor CCR2 with the cytosolic regulator FROUNT.\n",
      "Fetching EPMC metadata for item 27 of 161: Structure of CC chemokine receptor 2 with orthosteric and allosteric antagonists.\n",
      "Fetching EPMC metadata for item 28 of 161: Contrasting genetic influence of CCR2 and CCR5 variants on HIV-1 infection and disease progression.\n",
      "Fetching EPMC metadata for item 29 of 161: Genealogy of the CCR5 locus and chemokine system gene variants associated with altered rates of HIV-1 disease progression.\n",
      "Fetching EPMC metadata for item 30 of 161: Human inherited CCR2 deficiency underlies progressive polycystic lung disease.\n",
      "Fetching EPMC metadata for item 31 of 161: Molecular cloning and functional expression of a new human CC-chemokine receptor gene.\n",
      "Fetching EPMC metadata for item 32 of 161: Molecular cloning and functional characterization of a novel human CC chemokine receptor (CCR5) for RANTES, MIP-1beta, and MIP-1alpha.\n",
      "Fetching EPMC metadata for item 33 of 161: Cloning and functional expression of CC CKR5, a human monocyte CC chemokine receptor selective for MIP-1(alpha), MIP-1(beta), and RANTES.\n",
      "Fetching EPMC metadata for item 34 of 161: Polymorphisms in the CCR5 genes of African green monkeys and mice implicate specific amino acids in infections by simian and human immunodeficiency viruses.\n",
      "Fetching EPMC metadata for item 35 of 161: HIV type 1 subtypes, coreceptor usage, and CCR5 polymorphism.\n",
      "Fetching EPMC metadata for item 36 of 161: The human CC chemokine receptor 5 (CCR5) gene. Multiple transcripts with 5'-end heterogeneity, dual promoter usage, and evidence for polymorphisms within the regulatory regions and noncoding exons.\n",
      "Fetching EPMC metadata for item 37 of 161: Novel variant of the CCR5 gene in a Vietnamese population.\n",
      "Fetching EPMC metadata for item 38 of 161: cDNA clones of human proteins involved in signal transduction sequenced by the Guthrie cDNA resource center (www.cdna.org).\n",
      "Skipping existing file: cDNA clones of human proteins involved in signal transduction sequenced by the Guthrie cDNA resource center (www.cdna.org). (filename: EPMC_item0037.json)\n",
      "Fetching EPMC metadata for item 39 of 161: The DNA sequence, annotation and analysis of human chromosome 3.\n",
      "Fetching EPMC metadata for item 40 of 161: The status, quality, and expansion of the NIH full-length cDNA project: the Mammalian Gene Collection (MGC).\n",
      "Fetching EPMC metadata for item 41 of 161: Homozygous defect in HIV-1 coreceptor accounts for resistance of some multiply-exposed individuals to HIV-1 infection.\n",
      "Fetching EPMC metadata for item 42 of 161: Identification of a major co-receptor for primary isolates of HIV-1.\n",
      "Fetching EPMC metadata for item 43 of 161: HIV-1 entry into CD4+ cells is mediated by the chemokine receptor CC-CKR-5.\n",
      "Fetching EPMC metadata for item 44 of 161: Resistance to HIV-1 infection in caucasian individuals bearing mutant alleles of the CCR-5 chemokine receptor gene.\n",
      "Fetching EPMC metadata for item 45 of 161: A conserved HIV gp120 glycoprotein structure involved in chemokine receptor binding.\n",
      "Fetching EPMC metadata for item 46 of 161: Tyrosine sulfation of the amino terminus of CCR5 facilitates HIV-1 entry.\n",
      "Fetching EPMC metadata for item 47 of 161: Differential effects of CC chemokines on CC chemokine receptor 5 (CCR5) phosphorylation and identification of phosphorylation sites on the CCR5 carboxyl terminus.\n",
      "Fetching EPMC metadata for item 48 of 161: Extracellular cysteines of CCR5 are required for chemokine binding, but dispensable for HIV-1 coreceptor activity.\n",
      "Fetching EPMC metadata for item 49 of 161: Palmitoylation of CCR5 is critical for receptor trafficking and efficient activation of intracellular signaling pathways.\n",
      "Fetching EPMC metadata for item 50 of 161: Characterization of sequence determinants within the carboxyl-terminal domain of chemokine receptor CCR5 that regulate signaling and receptor internalization.\n",
      "Fetching EPMC metadata for item 51 of 161: Sialylated O-glycans and sulfated tyrosines in the NH2-terminal domain of CC chemokine receptor 5 contribute to high affinity binding of chemokines.\n",
      "Fetching EPMC metadata for item 52 of 161: JM4 is a four-transmembrane protein binding to the CCR5 receptor.\n",
      "Fetching EPMC metadata for item 53 of 161: G protein-coupled receptor kinases promote phosphorylation and beta-arrestin-mediated internalization of CCR5 homo- and hetero-oligomers.\n",
      "Fetching EPMC metadata for item 54 of 161: CCR5 deficiency increases risk of symptomatic West Nile virus infection.\n"
     ]
    }
   ],
   "source": [
    "uniprot_citations_df = fetch_epmc_batch_save_json(\n",
    "    items = citation_list,\n",
    "    directory = \"../data/corpus/new/\",\n",
    "    id_column=\"PMID\",\n",
    "    filename_prefix=\"EPMC_\",\n",
    "    indent=4,\n",
    "    drop_missing=True,\n",
    ")\n",
    "print(f\"Saved {len(uniprot_citations_df)} UniProt citation JSON files.\")"
   ]
  }
 ],
 "metadata": {
  "kernelspec": {
   "display_name": "Python 3",
   "language": "python",
   "name": "python3"
  },
  "language_info": {
   "codemirror_mode": {
    "name": "ipython",
    "version": 3
   },
   "file_extension": ".py",
   "mimetype": "text/x-python",
   "name": "python",
   "nbconvert_exporter": "python",
   "pygments_lexer": "ipython3",
   "version": "3.11.14"
  }
 },
 "nbformat": 4,
 "nbformat_minor": 5
}
